{
 "cells": [
  {
   "cell_type": "code",
   "execution_count": 1,
   "id": "1820ebbc",
   "metadata": {
    "_cell_guid": "b1076dfc-b9ad-4769-8c92-a6c4dae69d19",
    "_uuid": "8f2839f25d086af736a60e9eeb907d3b93b6e0e5",
    "execution": {
     "iopub.execute_input": "2023-04-02T06:18:43.778572Z",
     "iopub.status.busy": "2023-04-02T06:18:43.777882Z",
     "iopub.status.idle": "2023-04-02T06:18:43.800154Z",
     "shell.execute_reply": "2023-04-02T06:18:43.798755Z"
    },
    "papermill": {
     "duration": 0.032604,
     "end_time": "2023-04-02T06:18:43.803616",
     "exception": false,
     "start_time": "2023-04-02T06:18:43.771012",
     "status": "completed"
    },
    "tags": []
   },
   "outputs": [
    {
     "name": "stdout",
     "output_type": "stream",
     "text": [
      "/kaggle/input/spam1csv/spam.csv\n"
     ]
    }
   ],
   "source": [
    "# This Python 3 environment comes with many helpful analytics libraries installed\n",
    "# It is defined by the kaggle/python Docker image: https://github.com/kaggle/docker-python\n",
    "# For example, here's several helpful packages to load\n",
    "\n",
    "import numpy as np # linear algebra\n",
    "import pandas as pd # data processing, CSV file I/O (e.g. pd.read_csv)\n",
    "\n",
    "# Input data files are available in the read-only \"../input/\" directory\n",
    "# For example, running this (by clicking run or pressing Shift+Enter) will list all files under the input directory\n",
    "\n",
    "import os\n",
    "for dirname, _, filenames in os.walk('/kaggle/input'):\n",
    "    for filename in filenames:\n",
    "        print(os.path.join(dirname, filename))\n",
    "\n",
    "# You can write up to 20GB to the current directory (/kaggle/working/) that gets preserved as output when you create a version using \"Save & Run All\" \n",
    "# You can also write temporary files to /kaggle/temp/, but they won't be saved outside of the current session"
   ]
  },
  {
   "cell_type": "code",
   "execution_count": 2,
   "id": "f8841ee0",
   "metadata": {
    "execution": {
     "iopub.execute_input": "2023-04-02T06:18:43.814189Z",
     "iopub.status.busy": "2023-04-02T06:18:43.813042Z",
     "iopub.status.idle": "2023-04-02T06:18:43.880295Z",
     "shell.execute_reply": "2023-04-02T06:18:43.878729Z"
    },
    "papermill": {
     "duration": 0.074925,
     "end_time": "2023-04-02T06:18:43.882985",
     "exception": false,
     "start_time": "2023-04-02T06:18:43.808060",
     "status": "completed"
    },
    "tags": []
   },
   "outputs": [
    {
     "data": {
      "text/html": [
       "<div>\n",
       "<style scoped>\n",
       "    .dataframe tbody tr th:only-of-type {\n",
       "        vertical-align: middle;\n",
       "    }\n",
       "\n",
       "    .dataframe tbody tr th {\n",
       "        vertical-align: top;\n",
       "    }\n",
       "\n",
       "    .dataframe thead th {\n",
       "        text-align: right;\n",
       "    }\n",
       "</style>\n",
       "<table border=\"1\" class=\"dataframe\">\n",
       "  <thead>\n",
       "    <tr style=\"text-align: right;\">\n",
       "      <th></th>\n",
       "      <th>v1</th>\n",
       "      <th>v2</th>\n",
       "      <th>Unnamed: 2</th>\n",
       "      <th>Unnamed: 3</th>\n",
       "      <th>Unnamed: 4</th>\n",
       "    </tr>\n",
       "  </thead>\n",
       "  <tbody>\n",
       "    <tr>\n",
       "      <th>0</th>\n",
       "      <td>ham</td>\n",
       "      <td>Go until jurong point, crazy.. Available only ...</td>\n",
       "      <td>NaN</td>\n",
       "      <td>NaN</td>\n",
       "      <td>NaN</td>\n",
       "    </tr>\n",
       "    <tr>\n",
       "      <th>1</th>\n",
       "      <td>ham</td>\n",
       "      <td>Ok lar... Joking wif u oni...</td>\n",
       "      <td>NaN</td>\n",
       "      <td>NaN</td>\n",
       "      <td>NaN</td>\n",
       "    </tr>\n",
       "    <tr>\n",
       "      <th>2</th>\n",
       "      <td>spam</td>\n",
       "      <td>Free entry in 2 a wkly comp to win FA Cup fina...</td>\n",
       "      <td>NaN</td>\n",
       "      <td>NaN</td>\n",
       "      <td>NaN</td>\n",
       "    </tr>\n",
       "    <tr>\n",
       "      <th>3</th>\n",
       "      <td>ham</td>\n",
       "      <td>U dun say so early hor... U c already then say...</td>\n",
       "      <td>NaN</td>\n",
       "      <td>NaN</td>\n",
       "      <td>NaN</td>\n",
       "    </tr>\n",
       "    <tr>\n",
       "      <th>4</th>\n",
       "      <td>ham</td>\n",
       "      <td>Nah I don't think he goes to usf, he lives aro...</td>\n",
       "      <td>NaN</td>\n",
       "      <td>NaN</td>\n",
       "      <td>NaN</td>\n",
       "    </tr>\n",
       "  </tbody>\n",
       "</table>\n",
       "</div>"
      ],
      "text/plain": [
       "     v1                                                 v2 Unnamed: 2  \\\n",
       "0   ham  Go until jurong point, crazy.. Available only ...        NaN   \n",
       "1   ham                      Ok lar... Joking wif u oni...        NaN   \n",
       "2  spam  Free entry in 2 a wkly comp to win FA Cup fina...        NaN   \n",
       "3   ham  U dun say so early hor... U c already then say...        NaN   \n",
       "4   ham  Nah I don't think he goes to usf, he lives aro...        NaN   \n",
       "\n",
       "  Unnamed: 3 Unnamed: 4  \n",
       "0        NaN        NaN  \n",
       "1        NaN        NaN  \n",
       "2        NaN        NaN  \n",
       "3        NaN        NaN  \n",
       "4        NaN        NaN  "
      ]
     },
     "execution_count": 2,
     "metadata": {},
     "output_type": "execute_result"
    }
   ],
   "source": [
    "#Read data\n",
    "\n",
    "import numpy as np\n",
    "import pandas as pd\n",
    "\n",
    "data = pd.read_csv('/kaggle/input/spam1csv/spam.csv', encoding='latin-1')\n",
    "\n",
    "data.head()"
   ]
  },
  {
   "cell_type": "code",
   "execution_count": 3,
   "id": "aef337ad",
   "metadata": {
    "execution": {
     "iopub.execute_input": "2023-04-02T06:18:43.893725Z",
     "iopub.status.busy": "2023-04-02T06:18:43.893323Z",
     "iopub.status.idle": "2023-04-02T06:18:43.902358Z",
     "shell.execute_reply": "2023-04-02T06:18:43.901032Z"
    },
    "papermill": {
     "duration": 0.017334,
     "end_time": "2023-04-02T06:18:43.904707",
     "exception": false,
     "start_time": "2023-04-02T06:18:43.887373",
     "status": "completed"
    },
    "tags": []
   },
   "outputs": [],
   "source": [
    "#Clean Data\n",
    "data.drop(columns=['Unnamed: 2','Unnamed: 3', 'Unnamed: 4'], inplace=True)"
   ]
  },
  {
   "cell_type": "code",
   "execution_count": 4,
   "id": "cd254467",
   "metadata": {
    "execution": {
     "iopub.execute_input": "2023-04-02T06:18:43.914338Z",
     "iopub.status.busy": "2023-04-02T06:18:43.913888Z",
     "iopub.status.idle": "2023-04-02T06:18:43.937423Z",
     "shell.execute_reply": "2023-04-02T06:18:43.935605Z"
    },
    "papermill": {
     "duration": 0.032321,
     "end_time": "2023-04-02T06:18:43.941023",
     "exception": false,
     "start_time": "2023-04-02T06:18:43.908702",
     "status": "completed"
    },
    "tags": []
   },
   "outputs": [
    {
     "name": "stdout",
     "output_type": "stream",
     "text": [
      "<class 'pandas.core.frame.DataFrame'>\n",
      "RangeIndex: 5572 entries, 0 to 5571\n",
      "Data columns (total 2 columns):\n",
      " #   Column  Non-Null Count  Dtype \n",
      "---  ------  --------------  ----- \n",
      " 0   v1      5572 non-null   object\n",
      " 1   v2      5572 non-null   object\n",
      "dtypes: object(2)\n",
      "memory usage: 87.2+ KB\n"
     ]
    }
   ],
   "source": [
    "data.info()"
   ]
  },
  {
   "cell_type": "code",
   "execution_count": 5,
   "id": "47b9933b",
   "metadata": {
    "execution": {
     "iopub.execute_input": "2023-04-02T06:18:43.951571Z",
     "iopub.status.busy": "2023-04-02T06:18:43.950926Z",
     "iopub.status.idle": "2023-04-02T06:18:43.963669Z",
     "shell.execute_reply": "2023-04-02T06:18:43.962200Z"
    },
    "papermill": {
     "duration": 0.020938,
     "end_time": "2023-04-02T06:18:43.966446",
     "exception": false,
     "start_time": "2023-04-02T06:18:43.945508",
     "status": "completed"
    },
    "tags": []
   },
   "outputs": [
    {
     "data": {
      "text/html": [
       "<div>\n",
       "<style scoped>\n",
       "    .dataframe tbody tr th:only-of-type {\n",
       "        vertical-align: middle;\n",
       "    }\n",
       "\n",
       "    .dataframe tbody tr th {\n",
       "        vertical-align: top;\n",
       "    }\n",
       "\n",
       "    .dataframe thead th {\n",
       "        text-align: right;\n",
       "    }\n",
       "</style>\n",
       "<table border=\"1\" class=\"dataframe\">\n",
       "  <thead>\n",
       "    <tr style=\"text-align: right;\">\n",
       "      <th></th>\n",
       "      <th>target</th>\n",
       "      <th>text</th>\n",
       "    </tr>\n",
       "  </thead>\n",
       "  <tbody>\n",
       "    <tr>\n",
       "      <th>0</th>\n",
       "      <td>ham</td>\n",
       "      <td>Go until jurong point, crazy.. Available only ...</td>\n",
       "    </tr>\n",
       "    <tr>\n",
       "      <th>1</th>\n",
       "      <td>ham</td>\n",
       "      <td>Ok lar... Joking wif u oni...</td>\n",
       "    </tr>\n",
       "    <tr>\n",
       "      <th>2</th>\n",
       "      <td>spam</td>\n",
       "      <td>Free entry in 2 a wkly comp to win FA Cup fina...</td>\n",
       "    </tr>\n",
       "    <tr>\n",
       "      <th>3</th>\n",
       "      <td>ham</td>\n",
       "      <td>U dun say so early hor... U c already then say...</td>\n",
       "    </tr>\n",
       "    <tr>\n",
       "      <th>4</th>\n",
       "      <td>ham</td>\n",
       "      <td>Nah I don't think he goes to usf, he lives aro...</td>\n",
       "    </tr>\n",
       "  </tbody>\n",
       "</table>\n",
       "</div>"
      ],
      "text/plain": [
       "  target                                               text\n",
       "0    ham  Go until jurong point, crazy.. Available only ...\n",
       "1    ham                      Ok lar... Joking wif u oni...\n",
       "2   spam  Free entry in 2 a wkly comp to win FA Cup fina...\n",
       "3    ham  U dun say so early hor... U c already then say...\n",
       "4    ham  Nah I don't think he goes to usf, he lives aro..."
      ]
     },
     "execution_count": 5,
     "metadata": {},
     "output_type": "execute_result"
    }
   ],
   "source": [
    "data.rename(columns={'v1':'target','v2':'text'},inplace=True)\n",
    "data.head()"
   ]
  },
  {
   "cell_type": "code",
   "execution_count": 6,
   "id": "34f66c9e",
   "metadata": {
    "execution": {
     "iopub.execute_input": "2023-04-02T06:18:43.977078Z",
     "iopub.status.busy": "2023-04-02T06:18:43.976669Z",
     "iopub.status.idle": "2023-04-02T06:18:43.997317Z",
     "shell.execute_reply": "2023-04-02T06:18:43.996160Z"
    },
    "papermill": {
     "duration": 0.029166,
     "end_time": "2023-04-02T06:18:43.999961",
     "exception": false,
     "start_time": "2023-04-02T06:18:43.970795",
     "status": "completed"
    },
    "tags": []
   },
   "outputs": [
    {
     "data": {
      "text/html": [
       "<div>\n",
       "<style scoped>\n",
       "    .dataframe tbody tr th:only-of-type {\n",
       "        vertical-align: middle;\n",
       "    }\n",
       "\n",
       "    .dataframe tbody tr th {\n",
       "        vertical-align: top;\n",
       "    }\n",
       "\n",
       "    .dataframe thead th {\n",
       "        text-align: right;\n",
       "    }\n",
       "</style>\n",
       "<table border=\"1\" class=\"dataframe\">\n",
       "  <thead>\n",
       "    <tr style=\"text-align: right;\">\n",
       "      <th></th>\n",
       "      <th>target</th>\n",
       "      <th>text</th>\n",
       "    </tr>\n",
       "  </thead>\n",
       "  <tbody>\n",
       "    <tr>\n",
       "      <th>0</th>\n",
       "      <td>ham</td>\n",
       "      <td>Go until jurong point, crazy.. Available only ...</td>\n",
       "    </tr>\n",
       "    <tr>\n",
       "      <th>1</th>\n",
       "      <td>ham</td>\n",
       "      <td>Ok lar... Joking wif u oni...</td>\n",
       "    </tr>\n",
       "    <tr>\n",
       "      <th>2</th>\n",
       "      <td>spam</td>\n",
       "      <td>Free entry in 2 a wkly comp to win FA Cup fina...</td>\n",
       "    </tr>\n",
       "    <tr>\n",
       "      <th>3</th>\n",
       "      <td>ham</td>\n",
       "      <td>U dun say so early hor... U c already then say...</td>\n",
       "    </tr>\n",
       "    <tr>\n",
       "      <th>4</th>\n",
       "      <td>ham</td>\n",
       "      <td>Nah I don't think he goes to usf, he lives aro...</td>\n",
       "    </tr>\n",
       "    <tr>\n",
       "      <th>...</th>\n",
       "      <td>...</td>\n",
       "      <td>...</td>\n",
       "    </tr>\n",
       "    <tr>\n",
       "      <th>5567</th>\n",
       "      <td>spam</td>\n",
       "      <td>This is the 2nd time we have tried 2 contact u...</td>\n",
       "    </tr>\n",
       "    <tr>\n",
       "      <th>5568</th>\n",
       "      <td>ham</td>\n",
       "      <td>Will Ì_ b going to esplanade fr home?</td>\n",
       "    </tr>\n",
       "    <tr>\n",
       "      <th>5569</th>\n",
       "      <td>ham</td>\n",
       "      <td>Pity, * was in mood for that. So...any other s...</td>\n",
       "    </tr>\n",
       "    <tr>\n",
       "      <th>5570</th>\n",
       "      <td>ham</td>\n",
       "      <td>The guy did some bitching but I acted like i'd...</td>\n",
       "    </tr>\n",
       "    <tr>\n",
       "      <th>5571</th>\n",
       "      <td>ham</td>\n",
       "      <td>Rofl. Its true to its name</td>\n",
       "    </tr>\n",
       "  </tbody>\n",
       "</table>\n",
       "<p>5169 rows × 2 columns</p>\n",
       "</div>"
      ],
      "text/plain": [
       "     target                                               text\n",
       "0       ham  Go until jurong point, crazy.. Available only ...\n",
       "1       ham                      Ok lar... Joking wif u oni...\n",
       "2      spam  Free entry in 2 a wkly comp to win FA Cup fina...\n",
       "3       ham  U dun say so early hor... U c already then say...\n",
       "4       ham  Nah I don't think he goes to usf, he lives aro...\n",
       "...     ...                                                ...\n",
       "5567   spam  This is the 2nd time we have tried 2 contact u...\n",
       "5568    ham              Will Ì_ b going to esplanade fr home?\n",
       "5569    ham  Pity, * was in mood for that. So...any other s...\n",
       "5570    ham  The guy did some bitching but I acted like i'd...\n",
       "5571    ham                         Rofl. Its true to its name\n",
       "\n",
       "[5169 rows x 2 columns]"
      ]
     },
     "execution_count": 6,
     "metadata": {},
     "output_type": "execute_result"
    }
   ],
   "source": [
    "data.drop_duplicates(keep='first')"
   ]
  },
  {
   "cell_type": "code",
   "execution_count": 7,
   "id": "8cad6a1f",
   "metadata": {
    "execution": {
     "iopub.execute_input": "2023-04-02T06:18:44.011228Z",
     "iopub.status.busy": "2023-04-02T06:18:44.010799Z",
     "iopub.status.idle": "2023-04-02T06:18:45.249371Z",
     "shell.execute_reply": "2023-04-02T06:18:45.248086Z"
    },
    "papermill": {
     "duration": 1.247661,
     "end_time": "2023-04-02T06:18:45.252277",
     "exception": false,
     "start_time": "2023-04-02T06:18:44.004616",
     "status": "completed"
    },
    "tags": []
   },
   "outputs": [],
   "source": [
    "#Data Preprocessing\n",
    "\n",
    "from sklearn.feature_extraction.text import CountVectorizer\n",
    "from sklearn.preprocessing import LabelEncoder\n",
    "\n",
    "encoder = LabelEncoder()\n",
    "data['target'] = encoder.fit_transform(data['target'])\n",
    "\n",
    "vectorizer = CountVectorizer()\n",
    "X = vectorizer.fit_transform(data['text'])\n",
    "\n",
    "y = data['target']"
   ]
  },
  {
   "cell_type": "code",
   "execution_count": 8,
   "id": "c65a9055",
   "metadata": {
    "execution": {
     "iopub.execute_input": "2023-04-02T06:18:45.263333Z",
     "iopub.status.busy": "2023-04-02T06:18:45.262827Z",
     "iopub.status.idle": "2023-04-02T06:18:45.340642Z",
     "shell.execute_reply": "2023-04-02T06:18:45.339339Z"
    },
    "papermill": {
     "duration": 0.086882,
     "end_time": "2023-04-02T06:18:45.343717",
     "exception": false,
     "start_time": "2023-04-02T06:18:45.256835",
     "status": "completed"
    },
    "tags": []
   },
   "outputs": [],
   "source": [
    "from sklearn.model_selection import train_test_split\n",
    "\n",
    "X_train, X_test, y_train, y_test = train_test_split(X, y, test_size = 0.2, random_state=1)"
   ]
  },
  {
   "cell_type": "code",
   "execution_count": 9,
   "id": "a4a1492e",
   "metadata": {
    "execution": {
     "iopub.execute_input": "2023-04-02T06:18:45.355473Z",
     "iopub.status.busy": "2023-04-02T06:18:45.354458Z",
     "iopub.status.idle": "2023-04-02T06:18:45.861980Z",
     "shell.execute_reply": "2023-04-02T06:18:45.860633Z"
    },
    "papermill": {
     "duration": 0.516513,
     "end_time": "2023-04-02T06:18:45.864952",
     "exception": false,
     "start_time": "2023-04-02T06:18:45.348439",
     "status": "completed"
    },
    "tags": []
   },
   "outputs": [],
   "source": [
    "#Models ()\n",
    "from sklearn.naive_bayes import MultinomialNB\n",
    "from sklearn.tree import DecisionTreeClassifier\n",
    "from sklearn.neighbors import KNeighborsClassifier\n",
    "from sklearn.ensemble import RandomForestClassifier\n",
    "from xgboost import XGBClassifier\n",
    "\n",
    "mnb = MultinomialNB()\n",
    "dtc = DecisionTreeClassifier(max_depth = 5)\n",
    "rfc = RandomForestClassifier(n_estimators = 50, random_state = 1)\n",
    "knc = KNeighborsClassifier()\n",
    "xgb = XGBClassifier(n_estimators = 50, random_state = 1)\n",
    "\n",
    "models = {\n",
    "    'KN' : knc, \n",
    "    'NB': mnb, \n",
    "    'DT': dtc,\n",
    "    'RFC': rfc, \n",
    "    'xgb':xgb\n",
    "}"
   ]
  },
  {
   "cell_type": "code",
   "execution_count": 10,
   "id": "62c4c512",
   "metadata": {
    "execution": {
     "iopub.execute_input": "2023-04-02T06:18:45.875740Z",
     "iopub.status.busy": "2023-04-02T06:18:45.875314Z",
     "iopub.status.idle": "2023-04-02T06:18:45.881537Z",
     "shell.execute_reply": "2023-04-02T06:18:45.880243Z"
    },
    "papermill": {
     "duration": 0.014444,
     "end_time": "2023-04-02T06:18:45.883917",
     "exception": false,
     "start_time": "2023-04-02T06:18:45.869473",
     "status": "completed"
    },
    "tags": []
   },
   "outputs": [],
   "source": [
    "#Train Model\n",
    "from sklearn.metrics import accuracy_score\n",
    "\n",
    "def trainModel(model, X_train, y_train, X_test, y_test):\n",
    "    model.fit(X_train, y_train)\n",
    "    predictions = model.predict(X_test)\n",
    "    accuracy = accuracy_score(y_test, predictions)\n",
    "    \n",
    "    return accuracy"
   ]
  },
  {
   "cell_type": "code",
   "execution_count": 11,
   "id": "41422816",
   "metadata": {
    "execution": {
     "iopub.execute_input": "2023-04-02T06:18:45.894933Z",
     "iopub.status.busy": "2023-04-02T06:18:45.894532Z",
     "iopub.status.idle": "2023-04-02T06:18:48.483383Z",
     "shell.execute_reply": "2023-04-02T06:18:48.482216Z"
    },
    "papermill": {
     "duration": 2.598596,
     "end_time": "2023-04-02T06:18:48.487010",
     "exception": false,
     "start_time": "2023-04-02T06:18:45.888414",
     "status": "completed"
    },
    "tags": []
   },
   "outputs": [
    {
     "name": "stdout",
     "output_type": "stream",
     "text": [
      "For  KN\n",
      "Accuracy -  0.9291479820627803\n",
      "For  NB\n",
      "Accuracy -  0.97847533632287\n",
      "For  DT\n",
      "Accuracy -  0.9515695067264573\n",
      "For  RFC\n",
      "Accuracy -  0.9883408071748879\n",
      "For  xgb\n",
      "Accuracy -  0.9865470852017937\n"
     ]
    }
   ],
   "source": [
    "for name, model in models.items():\n",
    "    print(\"For \",name)\n",
    "    print(\"Accuracy - \", trainModel(model, X_train, y_train, X_test, y_test))"
   ]
  }
 ],
 "metadata": {
  "kernelspec": {
   "display_name": "Python 3",
   "language": "python",
   "name": "python3"
  },
  "language_info": {
   "codemirror_mode": {
    "name": "ipython",
    "version": 3
   },
   "file_extension": ".py",
   "mimetype": "text/x-python",
   "name": "python",
   "nbconvert_exporter": "python",
   "pygments_lexer": "ipython3",
   "version": "3.7.12"
  },
  "papermill": {
   "default_parameters": {},
   "duration": 16.246552,
   "end_time": "2023-04-02T06:18:49.316866",
   "environment_variables": {},
   "exception": null,
   "input_path": "__notebook__.ipynb",
   "output_path": "__notebook__.ipynb",
   "parameters": {},
   "start_time": "2023-04-02T06:18:33.070314",
   "version": "2.4.0"
  }
 },
 "nbformat": 4,
 "nbformat_minor": 5
}
