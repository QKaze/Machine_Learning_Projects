{
 "cells": [
  {
   "cell_type": "code",
   "execution_count": 1,
   "id": "5db13688",
   "metadata": {
    "_cell_guid": "b1076dfc-b9ad-4769-8c92-a6c4dae69d19",
    "_uuid": "8f2839f25d086af736a60e9eeb907d3b93b6e0e5",
    "execution": {
     "iopub.execute_input": "2023-06-14T09:46:46.827742Z",
     "iopub.status.busy": "2023-06-14T09:46:46.827319Z",
     "iopub.status.idle": "2023-06-14T09:46:49.768931Z",
     "shell.execute_reply": "2023-06-14T09:46:49.767164Z"
    },
    "papermill": {
     "duration": 2.955831,
     "end_time": "2023-06-14T09:46:49.772051",
     "exception": false,
     "start_time": "2023-06-14T09:46:46.816220",
     "status": "completed"
    },
    "tags": []
   },
   "outputs": [
    {
     "name": "stdout",
     "output_type": "stream",
     "text": [
      "/kaggle/input/nlp-getting-started/sample_submission.csv\n",
      "/kaggle/input/nlp-getting-started/train.csv\n",
      "/kaggle/input/nlp-getting-started/test.csv\n"
     ]
    }
   ],
   "source": [
    "import numpy as np # linear algebra\n",
    "import pandas as pd # data processing, CSV file I/O (e.g. pd.read_csv)\n",
    "import seaborn as sns\n",
    "import re\n",
    "import string\n",
    "import nltk\n",
    "from nltk.corpus import stopwords\n",
    "from sklearn.feature_extraction.text import TfidfVectorizer\n",
    "from sklearn import model_selection\n",
    "from sklearn.model_selection import train_test_split\n",
    "\n",
    "import os\n",
    "for dirname, _, filenames in os.walk('/kaggle/input'):\n",
    "    for filename in filenames:\n",
    "        print(os.path.join(dirname, filename))"
   ]
  },
  {
   "cell_type": "code",
   "execution_count": 2,
   "id": "56ab94eb",
   "metadata": {
    "execution": {
     "iopub.execute_input": "2023-06-14T09:46:49.793186Z",
     "iopub.status.busy": "2023-06-14T09:46:49.792668Z",
     "iopub.status.idle": "2023-06-14T09:46:49.895617Z",
     "shell.execute_reply": "2023-06-14T09:46:49.894737Z"
    },
    "papermill": {
     "duration": 0.11765,
     "end_time": "2023-06-14T09:46:49.899356",
     "exception": false,
     "start_time": "2023-06-14T09:46:49.781706",
     "status": "completed"
    },
    "tags": []
   },
   "outputs": [
    {
     "name": "stdout",
     "output_type": "stream",
     "text": [
      "Training data shape:  (7613, 5)\n"
     ]
    },
    {
     "data": {
      "text/html": [
       "<div>\n",
       "<style scoped>\n",
       "    .dataframe tbody tr th:only-of-type {\n",
       "        vertical-align: middle;\n",
       "    }\n",
       "\n",
       "    .dataframe tbody tr th {\n",
       "        vertical-align: top;\n",
       "    }\n",
       "\n",
       "    .dataframe thead th {\n",
       "        text-align: right;\n",
       "    }\n",
       "</style>\n",
       "<table border=\"1\" class=\"dataframe\">\n",
       "  <thead>\n",
       "    <tr style=\"text-align: right;\">\n",
       "      <th></th>\n",
       "      <th>id</th>\n",
       "      <th>keyword</th>\n",
       "      <th>location</th>\n",
       "      <th>text</th>\n",
       "      <th>target</th>\n",
       "    </tr>\n",
       "  </thead>\n",
       "  <tbody>\n",
       "    <tr>\n",
       "      <th>0</th>\n",
       "      <td>1</td>\n",
       "      <td>NaN</td>\n",
       "      <td>NaN</td>\n",
       "      <td>Our Deeds are the Reason of this #earthquake M...</td>\n",
       "      <td>1</td>\n",
       "    </tr>\n",
       "    <tr>\n",
       "      <th>1</th>\n",
       "      <td>4</td>\n",
       "      <td>NaN</td>\n",
       "      <td>NaN</td>\n",
       "      <td>Forest fire near La Ronge Sask. Canada</td>\n",
       "      <td>1</td>\n",
       "    </tr>\n",
       "    <tr>\n",
       "      <th>2</th>\n",
       "      <td>5</td>\n",
       "      <td>NaN</td>\n",
       "      <td>NaN</td>\n",
       "      <td>All residents asked to 'shelter in place' are ...</td>\n",
       "      <td>1</td>\n",
       "    </tr>\n",
       "    <tr>\n",
       "      <th>3</th>\n",
       "      <td>6</td>\n",
       "      <td>NaN</td>\n",
       "      <td>NaN</td>\n",
       "      <td>13,000 people receive #wildfires evacuation or...</td>\n",
       "      <td>1</td>\n",
       "    </tr>\n",
       "    <tr>\n",
       "      <th>4</th>\n",
       "      <td>7</td>\n",
       "      <td>NaN</td>\n",
       "      <td>NaN</td>\n",
       "      <td>Just got sent this photo from Ruby #Alaska as ...</td>\n",
       "      <td>1</td>\n",
       "    </tr>\n",
       "  </tbody>\n",
       "</table>\n",
       "</div>"
      ],
      "text/plain": [
       "   id keyword location                                               text  \\\n",
       "0   1     NaN      NaN  Our Deeds are the Reason of this #earthquake M...   \n",
       "1   4     NaN      NaN             Forest fire near La Ronge Sask. Canada   \n",
       "2   5     NaN      NaN  All residents asked to 'shelter in place' are ...   \n",
       "3   6     NaN      NaN  13,000 people receive #wildfires evacuation or...   \n",
       "4   7     NaN      NaN  Just got sent this photo from Ruby #Alaska as ...   \n",
       "\n",
       "   target  \n",
       "0       1  \n",
       "1       1  \n",
       "2       1  \n",
       "3       1  \n",
       "4       1  "
      ]
     },
     "execution_count": 2,
     "metadata": {},
     "output_type": "execute_result"
    }
   ],
   "source": [
    "#Training Data\n",
    "\n",
    "train = pd.read_csv('../input/nlp-getting-started/train.csv')\n",
    "print('Training data shape: ', train.shape)\n",
    "train.head()"
   ]
  },
  {
   "cell_type": "code",
   "execution_count": 3,
   "id": "d9cd8f70",
   "metadata": {
    "execution": {
     "iopub.execute_input": "2023-06-14T09:46:49.921908Z",
     "iopub.status.busy": "2023-06-14T09:46:49.921265Z",
     "iopub.status.idle": "2023-06-14T09:46:49.955976Z",
     "shell.execute_reply": "2023-06-14T09:46:49.954558Z"
    },
    "papermill": {
     "duration": 0.049487,
     "end_time": "2023-06-14T09:46:49.958993",
     "exception": false,
     "start_time": "2023-06-14T09:46:49.909506",
     "status": "completed"
    },
    "tags": []
   },
   "outputs": [
    {
     "name": "stdout",
     "output_type": "stream",
     "text": [
      "Testing data shape:  (3263, 4)\n"
     ]
    },
    {
     "data": {
      "text/html": [
       "<div>\n",
       "<style scoped>\n",
       "    .dataframe tbody tr th:only-of-type {\n",
       "        vertical-align: middle;\n",
       "    }\n",
       "\n",
       "    .dataframe tbody tr th {\n",
       "        vertical-align: top;\n",
       "    }\n",
       "\n",
       "    .dataframe thead th {\n",
       "        text-align: right;\n",
       "    }\n",
       "</style>\n",
       "<table border=\"1\" class=\"dataframe\">\n",
       "  <thead>\n",
       "    <tr style=\"text-align: right;\">\n",
       "      <th></th>\n",
       "      <th>id</th>\n",
       "      <th>keyword</th>\n",
       "      <th>location</th>\n",
       "      <th>text</th>\n",
       "    </tr>\n",
       "  </thead>\n",
       "  <tbody>\n",
       "    <tr>\n",
       "      <th>0</th>\n",
       "      <td>0</td>\n",
       "      <td>NaN</td>\n",
       "      <td>NaN</td>\n",
       "      <td>Just happened a terrible car crash</td>\n",
       "    </tr>\n",
       "    <tr>\n",
       "      <th>1</th>\n",
       "      <td>2</td>\n",
       "      <td>NaN</td>\n",
       "      <td>NaN</td>\n",
       "      <td>Heard about #earthquake is different cities, s...</td>\n",
       "    </tr>\n",
       "    <tr>\n",
       "      <th>2</th>\n",
       "      <td>3</td>\n",
       "      <td>NaN</td>\n",
       "      <td>NaN</td>\n",
       "      <td>there is a forest fire at spot pond, geese are...</td>\n",
       "    </tr>\n",
       "    <tr>\n",
       "      <th>3</th>\n",
       "      <td>9</td>\n",
       "      <td>NaN</td>\n",
       "      <td>NaN</td>\n",
       "      <td>Apocalypse lighting. #Spokane #wildfires</td>\n",
       "    </tr>\n",
       "    <tr>\n",
       "      <th>4</th>\n",
       "      <td>11</td>\n",
       "      <td>NaN</td>\n",
       "      <td>NaN</td>\n",
       "      <td>Typhoon Soudelor kills 28 in China and Taiwan</td>\n",
       "    </tr>\n",
       "  </tbody>\n",
       "</table>\n",
       "</div>"
      ],
      "text/plain": [
       "   id keyword location                                               text\n",
       "0   0     NaN      NaN                 Just happened a terrible car crash\n",
       "1   2     NaN      NaN  Heard about #earthquake is different cities, s...\n",
       "2   3     NaN      NaN  there is a forest fire at spot pond, geese are...\n",
       "3   9     NaN      NaN           Apocalypse lighting. #Spokane #wildfires\n",
       "4  11     NaN      NaN      Typhoon Soudelor kills 28 in China and Taiwan"
      ]
     },
     "execution_count": 3,
     "metadata": {},
     "output_type": "execute_result"
    }
   ],
   "source": [
    "#Testing Data\n",
    "\n",
    "test = pd.read_csv('../input/nlp-getting-started/test.csv')\n",
    "print('Testing data shape: ', test.shape)\n",
    "test.head()"
   ]
  },
  {
   "cell_type": "markdown",
   "id": "080bcd54",
   "metadata": {
    "papermill": {
     "duration": 0.009421,
     "end_time": "2023-06-14T09:46:49.979690",
     "exception": false,
     "start_time": "2023-06-14T09:46:49.970269",
     "status": "completed"
    },
    "tags": []
   },
   "source": [
    "# **EDA**"
   ]
  },
  {
   "cell_type": "code",
   "execution_count": 4,
   "id": "7911b6be",
   "metadata": {
    "execution": {
     "iopub.execute_input": "2023-06-14T09:46:50.003625Z",
     "iopub.status.busy": "2023-06-14T09:46:50.002818Z",
     "iopub.status.idle": "2023-06-14T09:46:50.026513Z",
     "shell.execute_reply": "2023-06-14T09:46:50.024738Z"
    },
    "papermill": {
     "duration": 0.039023,
     "end_time": "2023-06-14T09:46:50.029276",
     "exception": false,
     "start_time": "2023-06-14T09:46:49.990253",
     "status": "completed"
    },
    "tags": []
   },
   "outputs": [
    {
     "data": {
      "text/plain": [
       "id             0\n",
       "keyword       61\n",
       "location    2533\n",
       "text           0\n",
       "target         0\n",
       "dtype: int64"
      ]
     },
     "execution_count": 4,
     "metadata": {},
     "output_type": "execute_result"
    }
   ],
   "source": [
    "#Missing Values in Training Set\n",
    "\n",
    "train.isnull().sum()"
   ]
  },
  {
   "cell_type": "code",
   "execution_count": 5,
   "id": "03599bfc",
   "metadata": {
    "execution": {
     "iopub.execute_input": "2023-06-14T09:46:50.053509Z",
     "iopub.status.busy": "2023-06-14T09:46:50.053022Z",
     "iopub.status.idle": "2023-06-14T09:46:50.067561Z",
     "shell.execute_reply": "2023-06-14T09:46:50.066594Z"
    },
    "papermill": {
     "duration": 0.029482,
     "end_time": "2023-06-14T09:46:50.070356",
     "exception": false,
     "start_time": "2023-06-14T09:46:50.040874",
     "status": "completed"
    },
    "tags": []
   },
   "outputs": [
    {
     "data": {
      "text/plain": [
       "id             0\n",
       "keyword       26\n",
       "location    1105\n",
       "text           0\n",
       "dtype: int64"
      ]
     },
     "execution_count": 5,
     "metadata": {},
     "output_type": "execute_result"
    }
   ],
   "source": [
    "#Missing Values in Testing Set\n",
    "test.isnull().sum()"
   ]
  },
  {
   "cell_type": "code",
   "execution_count": 6,
   "id": "4b254743",
   "metadata": {
    "execution": {
     "iopub.execute_input": "2023-06-14T09:46:50.094002Z",
     "iopub.status.busy": "2023-06-14T09:46:50.093442Z",
     "iopub.status.idle": "2023-06-14T09:46:50.107804Z",
     "shell.execute_reply": "2023-06-14T09:46:50.106462Z"
    },
    "papermill": {
     "duration": 0.028957,
     "end_time": "2023-06-14T09:46:50.110150",
     "exception": false,
     "start_time": "2023-06-14T09:46:50.081193",
     "status": "completed"
    },
    "tags": []
   },
   "outputs": [
    {
     "data": {
      "text/plain": [
       "0    4342\n",
       "1    3271\n",
       "Name: target, dtype: int64"
      ]
     },
     "execution_count": 6,
     "metadata": {},
     "output_type": "execute_result"
    }
   ],
   "source": [
    "train['target'].value_counts()"
   ]
  },
  {
   "cell_type": "code",
   "execution_count": 7,
   "id": "afa5cf61",
   "metadata": {
    "execution": {
     "iopub.execute_input": "2023-06-14T09:46:50.133504Z",
     "iopub.status.busy": "2023-06-14T09:46:50.133035Z",
     "iopub.status.idle": "2023-06-14T09:46:50.150029Z",
     "shell.execute_reply": "2023-06-14T09:46:50.148756Z"
    },
    "papermill": {
     "duration": 0.03187,
     "end_time": "2023-06-14T09:46:50.153097",
     "exception": false,
     "start_time": "2023-06-14T09:46:50.121227",
     "status": "completed"
    },
    "tags": []
   },
   "outputs": [
    {
     "data": {
      "text/plain": [
       "'Forest fire near La Ronge Sask. Canada'"
      ]
     },
     "execution_count": 7,
     "metadata": {},
     "output_type": "execute_result"
    }
   ],
   "source": [
    "# A disaster tweet\n",
    "disaster_tweets = train[train['target']==1]['text']\n",
    "disaster_tweets.values[1]"
   ]
  },
  {
   "cell_type": "code",
   "execution_count": 8,
   "id": "eecadfc0",
   "metadata": {
    "execution": {
     "iopub.execute_input": "2023-06-14T09:46:50.176259Z",
     "iopub.status.busy": "2023-06-14T09:46:50.175797Z",
     "iopub.status.idle": "2023-06-14T09:46:50.185982Z",
     "shell.execute_reply": "2023-06-14T09:46:50.184680Z"
    },
    "papermill": {
     "duration": 0.025134,
     "end_time": "2023-06-14T09:46:50.188647",
     "exception": false,
     "start_time": "2023-06-14T09:46:50.163513",
     "status": "completed"
    },
    "tags": []
   },
   "outputs": [
    {
     "data": {
      "text/plain": [
       "'I love fruits'"
      ]
     },
     "execution_count": 8,
     "metadata": {},
     "output_type": "execute_result"
    }
   ],
   "source": [
    "#not a disaster tweet\n",
    "non_disaster_tweets = train[train['target']==0]['text']\n",
    "non_disaster_tweets.values[1]"
   ]
  },
  {
   "cell_type": "code",
   "execution_count": 9,
   "id": "ff66c4bc",
   "metadata": {
    "execution": {
     "iopub.execute_input": "2023-06-14T09:46:50.211984Z",
     "iopub.status.busy": "2023-06-14T09:46:50.211551Z",
     "iopub.status.idle": "2023-06-14T09:46:50.717720Z",
     "shell.execute_reply": "2023-06-14T09:46:50.716605Z"
    },
    "papermill": {
     "duration": 0.521416,
     "end_time": "2023-06-14T09:46:50.721001",
     "exception": false,
     "start_time": "2023-06-14T09:46:50.199585",
     "status": "completed"
    },
    "tags": []
   },
   "outputs": [
    {
     "data": {
      "text/plain": [
       "<Axes: xlabel='keyword'>"
      ]
     },
     "execution_count": 9,
     "metadata": {},
     "output_type": "execute_result"
    },
    {
     "data": {
      "image/png": "[encoded data removed]",
      "text/plain": [
       "<Figure size 640x480 with 1 Axes>"
      ]
     },
     "metadata": {},
     "output_type": "display_data"
    }
   ],
   "source": [
    "sns.barplot(y=train['keyword'].value_counts()[:20].index,x=train['keyword'].value_counts()[:20],\n",
    "            orient='h')"
   ]
  },
  {
   "cell_type": "markdown",
   "id": "5b1fb8db",
   "metadata": {
    "papermill": {
     "duration": 0.010586,
     "end_time": "2023-06-14T09:46:50.742969",
     "exception": false,
     "start_time": "2023-06-14T09:46:50.732383",
     "status": "completed"
    },
    "tags": []
   },
   "source": [
    "# **PreProcessing**"
   ]
  },
  {
   "cell_type": "code",
   "execution_count": 10,
   "id": "edbb5624",
   "metadata": {
    "execution": {
     "iopub.execute_input": "2023-06-14T09:46:50.767633Z",
     "iopub.status.busy": "2023-06-14T09:46:50.767218Z",
     "iopub.status.idle": "2023-06-14T09:46:50.776599Z",
     "shell.execute_reply": "2023-06-14T09:46:50.775461Z"
    },
    "papermill": {
     "duration": 0.02434,
     "end_time": "2023-06-14T09:46:50.779010",
     "exception": false,
     "start_time": "2023-06-14T09:46:50.754670",
     "status": "completed"
    },
    "tags": []
   },
   "outputs": [
    {
     "data": {
      "text/plain": [
       "0    Our Deeds are the Reason of this #earthquake M...\n",
       "1               Forest fire near La Ronge Sask. Canada\n",
       "2    All residents asked to 'shelter in place' are ...\n",
       "3    13,000 people receive #wildfires evacuation or...\n",
       "4    Just got sent this photo from Ruby #Alaska as ...\n",
       "Name: text, dtype: object"
      ]
     },
     "execution_count": 10,
     "metadata": {},
     "output_type": "execute_result"
    }
   ],
   "source": [
    "#Original Training Data\n",
    "train['text'][:5]"
   ]
  },
  {
   "cell_type": "code",
   "execution_count": 11,
   "id": "3699549f",
   "metadata": {
    "execution": {
     "iopub.execute_input": "2023-06-14T09:46:50.803930Z",
     "iopub.status.busy": "2023-06-14T09:46:50.803067Z",
     "iopub.status.idle": "2023-06-14T09:46:50.810922Z",
     "shell.execute_reply": "2023-06-14T09:46:50.810012Z"
    },
    "papermill": {
     "duration": 0.02322,
     "end_time": "2023-06-14T09:46:50.813598",
     "exception": false,
     "start_time": "2023-06-14T09:46:50.790378",
     "status": "completed"
    },
    "tags": []
   },
   "outputs": [],
   "source": [
    "def clean_text(text):\n",
    "    '''Make text lowercase, remove text in square brackets,remove links,remove punctuation\n",
    "    and remove words containing numbers.'''\n",
    "    text = text.lower()\n",
    "    text = re.sub('\\[.*?\\]', '', text)\n",
    "    text = re.sub('https?://\\S+|www\\.\\S+', '', text)\n",
    "    text = re.sub('<.*?>+', '', text)\n",
    "    text = re.sub('[%s]' % re.escape(string.punctuation), '', text)\n",
    "    text = re.sub('\\n', '', text)\n",
    "    text = re.sub('\\w*\\d\\w*', '', text)\n",
    "    return text"
   ]
  },
  {
   "cell_type": "code",
   "execution_count": 12,
   "id": "bb3b4ad6",
   "metadata": {
    "execution": {
     "iopub.execute_input": "2023-06-14T09:46:50.841072Z",
     "iopub.status.busy": "2023-06-14T09:46:50.840281Z",
     "iopub.status.idle": "2023-06-14T09:46:51.320305Z",
     "shell.execute_reply": "2023-06-14T09:46:51.319199Z"
    },
    "papermill": {
     "duration": 0.497254,
     "end_time": "2023-06-14T09:46:51.322958",
     "exception": false,
     "start_time": "2023-06-14T09:46:50.825704",
     "status": "completed"
    },
    "tags": []
   },
   "outputs": [
    {
     "data": {
      "text/plain": [
       "0    our deeds are the reason of this earthquake ma...\n",
       "1                forest fire near la ronge sask canada\n",
       "2    all residents asked to shelter in place are be...\n",
       "3     people receive wildfires evacuation orders in...\n",
       "4    just got sent this photo from ruby alaska as s...\n",
       "Name: text, dtype: object"
      ]
     },
     "execution_count": 12,
     "metadata": {},
     "output_type": "execute_result"
    }
   ],
   "source": [
    "# Applying the cleaning function to both test and training datasets\n",
    "train['text'] = train['text'].apply(lambda x: clean_text(x))\n",
    "test['text'] = test['text'].apply(lambda x: clean_text(x))\n",
    "\n",
    "# Let's take a look at the updated text\n",
    "train['text'].head()"
   ]
  },
  {
   "cell_type": "code",
   "execution_count": 13,
   "id": "94397483",
   "metadata": {
    "execution": {
     "iopub.execute_input": "2023-06-14T09:46:51.348322Z",
     "iopub.status.busy": "2023-06-14T09:46:51.347830Z",
     "iopub.status.idle": "2023-06-14T09:46:51.358346Z",
     "shell.execute_reply": "2023-06-14T09:46:51.357144Z"
    },
    "papermill": {
     "duration": 0.026892,
     "end_time": "2023-06-14T09:46:51.361307",
     "exception": false,
     "start_time": "2023-06-14T09:46:51.334415",
     "status": "completed"
    },
    "tags": []
   },
   "outputs": [
    {
     "name": "stdout",
     "output_type": "stream",
     "text": [
      "Example Text:  our deeds are the reason of this earthquake may allah forgive us all\n",
      "------------------------------------------------------------------------------------------------\n",
      "Tokenization by whitespace:-  ['our', 'deeds', 'are', 'the', 'reason', 'of', 'this', 'earthquake', 'may', 'allah', 'forgive', 'us', 'all']\n",
      "Tokenization by words using Treebank Word Tokenizer:-  ['our', 'deeds', 'are', 'the', 'reason', 'of', 'this', 'earthquake', 'may', 'allah', 'forgive', 'us', 'all']\n",
      "Tokenization by punctuation:-  ['our', 'deeds', 'are', 'the', 'reason', 'of', 'this', 'earthquake', 'may', 'allah', 'forgive', 'us', 'all']\n",
      "Tokenization by regular expression:-  ['our', 'deeds', 'are', 'the', 'reason', 'of', 'this', 'earthquake', 'may', 'allah', 'forgive', 'us', 'all']\n"
     ]
    }
   ],
   "source": [
    "#Tokenization\n",
    "\n",
    "text = train['text'][0]\n",
    "tokenizer1 = nltk.tokenize.WhitespaceTokenizer()\n",
    "tokenizer2 = nltk.tokenize.TreebankWordTokenizer()\n",
    "tokenizer3 = nltk.tokenize.WordPunctTokenizer()\n",
    "tokenizer4 = nltk.tokenize.RegexpTokenizer(r'\\w+')\n",
    "\n",
    "print(\"Example Text: \",text)\n",
    "print(\"------------------------------------------------------------------------------------------------\")\n",
    "print(\"Tokenization by whitespace:- \",tokenizer1.tokenize(text))\n",
    "print(\"Tokenization by words using Treebank Word Tokenizer:- \",tokenizer2.tokenize(text))\n",
    "print(\"Tokenization by punctuation:- \",tokenizer3.tokenize(text))\n",
    "print(\"Tokenization by regular expression:- \",tokenizer4.tokenize(text))"
   ]
  },
  {
   "cell_type": "code",
   "execution_count": 14,
   "id": "5eef1926",
   "metadata": {
    "execution": {
     "iopub.execute_input": "2023-06-14T09:46:51.387233Z",
     "iopub.status.busy": "2023-06-14T09:46:51.386790Z",
     "iopub.status.idle": "2023-06-14T09:46:51.503981Z",
     "shell.execute_reply": "2023-06-14T09:46:51.502730Z"
    },
    "papermill": {
     "duration": 0.133049,
     "end_time": "2023-06-14T09:46:51.506389",
     "exception": false,
     "start_time": "2023-06-14T09:46:51.373340",
     "status": "completed"
    },
    "tags": []
   },
   "outputs": [
    {
     "data": {
      "text/plain": [
       "0    [our, deeds, are, the, reason, of, this, earth...\n",
       "1        [forest, fire, near, la, ronge, sask, canada]\n",
       "2    [all, residents, asked, to, shelter, in, place...\n",
       "3    [people, receive, wildfires, evacuation, order...\n",
       "4    [just, got, sent, this, photo, from, ruby, ala...\n",
       "Name: text, dtype: object"
      ]
     },
     "execution_count": 14,
     "metadata": {},
     "output_type": "execute_result"
    }
   ],
   "source": [
    "# Tokenizing the training and the test set\n",
    "tokenizer = nltk.tokenize.RegexpTokenizer(r'\\w+')\n",
    "train['text'] = train['text'].apply(lambda x: tokenizer.tokenize(x))\n",
    "test['text'] = test['text'].apply(lambda x: tokenizer.tokenize(x))\n",
    "train['text'].head()"
   ]
  },
  {
   "cell_type": "code",
   "execution_count": 15,
   "id": "58064e53",
   "metadata": {
    "execution": {
     "iopub.execute_input": "2023-06-14T09:46:51.532841Z",
     "iopub.status.busy": "2023-06-14T09:46:51.532414Z",
     "iopub.status.idle": "2023-06-14T09:47:12.711006Z",
     "shell.execute_reply": "2023-06-14T09:47:12.709571Z"
    },
    "papermill": {
     "duration": 21.195076,
     "end_time": "2023-06-14T09:47:12.713933",
     "exception": false,
     "start_time": "2023-06-14T09:46:51.518857",
     "status": "completed"
    },
    "tags": []
   },
   "outputs": [
    {
     "data": {
      "text/html": [
       "<div>\n",
       "<style scoped>\n",
       "    .dataframe tbody tr th:only-of-type {\n",
       "        vertical-align: middle;\n",
       "    }\n",
       "\n",
       "    .dataframe tbody tr th {\n",
       "        vertical-align: top;\n",
       "    }\n",
       "\n",
       "    .dataframe thead th {\n",
       "        text-align: right;\n",
       "    }\n",
       "</style>\n",
       "<table border=\"1\" class=\"dataframe\">\n",
       "  <thead>\n",
       "    <tr style=\"text-align: right;\">\n",
       "      <th></th>\n",
       "      <th>id</th>\n",
       "      <th>keyword</th>\n",
       "      <th>location</th>\n",
       "      <th>text</th>\n",
       "      <th>target</th>\n",
       "    </tr>\n",
       "  </thead>\n",
       "  <tbody>\n",
       "    <tr>\n",
       "      <th>0</th>\n",
       "      <td>1</td>\n",
       "      <td>NaN</td>\n",
       "      <td>NaN</td>\n",
       "      <td>[deeds, reason, earthquake, may, allah, forgiv...</td>\n",
       "      <td>1</td>\n",
       "    </tr>\n",
       "    <tr>\n",
       "      <th>1</th>\n",
       "      <td>4</td>\n",
       "      <td>NaN</td>\n",
       "      <td>NaN</td>\n",
       "      <td>[forest, fire, near, la, ronge, sask, canada]</td>\n",
       "      <td>1</td>\n",
       "    </tr>\n",
       "    <tr>\n",
       "      <th>2</th>\n",
       "      <td>5</td>\n",
       "      <td>NaN</td>\n",
       "      <td>NaN</td>\n",
       "      <td>[residents, asked, shelter, place, notified, o...</td>\n",
       "      <td>1</td>\n",
       "    </tr>\n",
       "    <tr>\n",
       "      <th>3</th>\n",
       "      <td>6</td>\n",
       "      <td>NaN</td>\n",
       "      <td>NaN</td>\n",
       "      <td>[people, receive, wildfires, evacuation, order...</td>\n",
       "      <td>1</td>\n",
       "    </tr>\n",
       "    <tr>\n",
       "      <th>4</th>\n",
       "      <td>7</td>\n",
       "      <td>NaN</td>\n",
       "      <td>NaN</td>\n",
       "      <td>[got, sent, photo, ruby, alaska, smoke, wildfi...</td>\n",
       "      <td>1</td>\n",
       "    </tr>\n",
       "  </tbody>\n",
       "</table>\n",
       "</div>"
      ],
      "text/plain": [
       "   id keyword location                                               text  \\\n",
       "0   1     NaN      NaN  [deeds, reason, earthquake, may, allah, forgiv...   \n",
       "1   4     NaN      NaN      [forest, fire, near, la, ronge, sask, canada]   \n",
       "2   5     NaN      NaN  [residents, asked, shelter, place, notified, o...   \n",
       "3   6     NaN      NaN  [people, receive, wildfires, evacuation, order...   \n",
       "4   7     NaN      NaN  [got, sent, photo, ruby, alaska, smoke, wildfi...   \n",
       "\n",
       "   target  \n",
       "0       1  \n",
       "1       1  \n",
       "2       1  \n",
       "3       1  \n",
       "4       1  "
      ]
     },
     "execution_count": 15,
     "metadata": {},
     "output_type": "execute_result"
    }
   ],
   "source": [
    "#Removing Stop Words\n",
    "def remove_stopwords(text):\n",
    "    words = [w for w in text if w not in stopwords.words('english')]\n",
    "    return words\n",
    "\n",
    "train['text'] = train['text'].apply(lambda x : remove_stopwords(x))\n",
    "test['text'] = test['text'].apply(lambda x : remove_stopwords(x))\n",
    "train.head()"
   ]
  },
  {
   "cell_type": "code",
   "execution_count": 16,
   "id": "0132a58c",
   "metadata": {
    "execution": {
     "iopub.execute_input": "2023-06-14T09:47:12.740204Z",
     "iopub.status.busy": "2023-06-14T09:47:12.739781Z",
     "iopub.status.idle": "2023-06-14T09:47:12.771920Z",
     "shell.execute_reply": "2023-06-14T09:47:12.770405Z"
    },
    "papermill": {
     "duration": 0.049086,
     "end_time": "2023-06-14T09:47:12.774869",
     "exception": false,
     "start_time": "2023-06-14T09:47:12.725783",
     "status": "completed"
    },
    "tags": []
   },
   "outputs": [
    {
     "data": {
      "text/html": [
       "<div>\n",
       "<style scoped>\n",
       "    .dataframe tbody tr th:only-of-type {\n",
       "        vertical-align: middle;\n",
       "    }\n",
       "\n",
       "    .dataframe tbody tr th {\n",
       "        vertical-align: top;\n",
       "    }\n",
       "\n",
       "    .dataframe thead th {\n",
       "        text-align: right;\n",
       "    }\n",
       "</style>\n",
       "<table border=\"1\" class=\"dataframe\">\n",
       "  <thead>\n",
       "    <tr style=\"text-align: right;\">\n",
       "      <th></th>\n",
       "      <th>id</th>\n",
       "      <th>keyword</th>\n",
       "      <th>location</th>\n",
       "      <th>text</th>\n",
       "      <th>target</th>\n",
       "    </tr>\n",
       "  </thead>\n",
       "  <tbody>\n",
       "    <tr>\n",
       "      <th>0</th>\n",
       "      <td>1</td>\n",
       "      <td>NaN</td>\n",
       "      <td>NaN</td>\n",
       "      <td>deeds reason earthquake may allah forgive us</td>\n",
       "      <td>1</td>\n",
       "    </tr>\n",
       "    <tr>\n",
       "      <th>1</th>\n",
       "      <td>4</td>\n",
       "      <td>NaN</td>\n",
       "      <td>NaN</td>\n",
       "      <td>forest fire near la ronge sask canada</td>\n",
       "      <td>1</td>\n",
       "    </tr>\n",
       "    <tr>\n",
       "      <th>2</th>\n",
       "      <td>5</td>\n",
       "      <td>NaN</td>\n",
       "      <td>NaN</td>\n",
       "      <td>residents asked shelter place notified officer...</td>\n",
       "      <td>1</td>\n",
       "    </tr>\n",
       "    <tr>\n",
       "      <th>3</th>\n",
       "      <td>6</td>\n",
       "      <td>NaN</td>\n",
       "      <td>NaN</td>\n",
       "      <td>people receive wildfires evacuation orders cal...</td>\n",
       "      <td>1</td>\n",
       "    </tr>\n",
       "    <tr>\n",
       "      <th>4</th>\n",
       "      <td>7</td>\n",
       "      <td>NaN</td>\n",
       "      <td>NaN</td>\n",
       "      <td>got sent photo ruby alaska smoke wildfires pou...</td>\n",
       "      <td>1</td>\n",
       "    </tr>\n",
       "  </tbody>\n",
       "</table>\n",
       "</div>"
      ],
      "text/plain": [
       "   id keyword location                                               text  \\\n",
       "0   1     NaN      NaN       deeds reason earthquake may allah forgive us   \n",
       "1   4     NaN      NaN              forest fire near la ronge sask canada   \n",
       "2   5     NaN      NaN  residents asked shelter place notified officer...   \n",
       "3   6     NaN      NaN  people receive wildfires evacuation orders cal...   \n",
       "4   7     NaN      NaN  got sent photo ruby alaska smoke wildfires pou...   \n",
       "\n",
       "   target  \n",
       "0       1  \n",
       "1       1  \n",
       "2       1  \n",
       "3       1  \n",
       "4       1  "
      ]
     },
     "execution_count": 16,
     "metadata": {},
     "output_type": "execute_result"
    }
   ],
   "source": [
    "# After preprocessing, the text format\n",
    "def combine_text(list_of_text):\n",
    "    combined_text = ' '.join(list_of_text)\n",
    "    return combined_text\n",
    "\n",
    "train['text'] = train['text'].apply(lambda x : combine_text(x))\n",
    "test['text'] = test['text'].apply(lambda x : combine_text(x))\n",
    "train['text']\n",
    "train.head()"
   ]
  },
  {
   "cell_type": "code",
   "execution_count": 17,
   "id": "25990f21",
   "metadata": {
    "execution": {
     "iopub.execute_input": "2023-06-14T09:47:12.802655Z",
     "iopub.status.busy": "2023-06-14T09:47:12.801601Z",
     "iopub.status.idle": "2023-06-14T09:47:12.809793Z",
     "shell.execute_reply": "2023-06-14T09:47:12.808855Z"
    },
    "papermill": {
     "duration": 0.025429,
     "end_time": "2023-06-14T09:47:12.812509",
     "exception": false,
     "start_time": "2023-06-14T09:47:12.787080",
     "status": "completed"
    },
    "tags": []
   },
   "outputs": [],
   "source": [
    "# text preprocessing function\n",
    "def text_preprocessing(text):\n",
    "    \"\"\"\n",
    "    Cleaning and parsing the text.\n",
    "\n",
    "    \"\"\"\n",
    "    tokenizer = nltk.tokenize.RegexpTokenizer(r'\\w+')\n",
    "    \n",
    "    nopunc = clean_text(text)\n",
    "    tokenized_text = tokenizer.tokenize(nopunc)\n",
    "    remove_stopwords = [w for w in tokenized_text if w not in stopwords.words('english')]\n",
    "    combined_text = ' '.join(remove_stopwords)\n",
    "    return combined_text"
   ]
  },
  {
   "cell_type": "code",
   "execution_count": 18,
   "id": "faa573c6",
   "metadata": {
    "execution": {
     "iopub.execute_input": "2023-06-14T09:47:12.840792Z",
     "iopub.status.busy": "2023-06-14T09:47:12.840054Z",
     "iopub.status.idle": "2023-06-14T09:47:13.291557Z",
     "shell.execute_reply": "2023-06-14T09:47:13.289927Z"
    },
    "papermill": {
     "duration": 0.469767,
     "end_time": "2023-06-14T09:47:13.294622",
     "exception": false,
     "start_time": "2023-06-14T09:47:12.824855",
     "status": "completed"
    },
    "tags": []
   },
   "outputs": [],
   "source": [
    "# TFIDF\n",
    "tfidf = TfidfVectorizer(min_df=2, max_df=0.5, ngram_range=(1, 2))\n",
    "train_tfidf = tfidf.fit_transform(train['text'])\n",
    "test_tfidf = tfidf.transform(test[\"text\"])"
   ]
  },
  {
   "cell_type": "markdown",
   "id": "a40272cd",
   "metadata": {
    "papermill": {
     "duration": 0.012921,
     "end_time": "2023-06-14T09:47:13.320457",
     "exception": false,
     "start_time": "2023-06-14T09:47:13.307536",
     "status": "completed"
    },
    "tags": []
   },
   "source": [
    "# **Model**"
   ]
  },
  {
   "cell_type": "code",
   "execution_count": 19,
   "id": "91b59b27",
   "metadata": {
    "execution": {
     "iopub.execute_input": "2023-06-14T09:47:13.347087Z",
     "iopub.status.busy": "2023-06-14T09:47:13.346450Z",
     "iopub.status.idle": "2023-06-14T09:47:29.394910Z",
     "shell.execute_reply": "2023-06-14T09:47:29.393424Z"
    },
    "papermill": {
     "duration": 16.065125,
     "end_time": "2023-06-14T09:47:29.397762",
     "exception": false,
     "start_time": "2023-06-14T09:47:13.332637",
     "status": "completed"
    },
    "tags": []
   },
   "outputs": [
    {
     "name": "stdout",
     "output_type": "stream",
     "text": [
      "XGBoost [0.48498331 0.32860041 0.42528736 0.42182581 0.53256705]\n"
     ]
    }
   ],
   "source": [
    "# XGBoost\n",
    "import xgboost as xgb\n",
    "clf_xgb_TFIDF = xgb.XGBClassifier(max_depth=7, n_estimators=200, colsample_bytree=0.8, \n",
    "                        subsample=0.8, nthread=10, learning_rate=0.1)\n",
    "scores = model_selection.cross_val_score(clf_xgb_TFIDF, train_tfidf, train[\"target\"], cv=5, scoring=\"f1\")\n",
    "print('XGBoost', scores)"
   ]
  },
  {
   "cell_type": "code",
   "execution_count": 20,
   "id": "a5c0f792",
   "metadata": {
    "execution": {
     "iopub.execute_input": "2023-06-14T09:47:29.424182Z",
     "iopub.status.busy": "2023-06-14T09:47:29.423770Z",
     "iopub.status.idle": "2023-06-14T09:47:50.759549Z",
     "shell.execute_reply": "2023-06-14T09:47:50.758215Z"
    },
    "papermill": {
     "duration": 21.351742,
     "end_time": "2023-06-14T09:47:50.762200",
     "exception": false,
     "start_time": "2023-06-14T09:47:29.410458",
     "status": "completed"
    },
    "tags": []
   },
   "outputs": [
    {
     "name": "stdout",
     "output_type": "stream",
     "text": [
      "SVM [0.55005269 0.46507177 0.52730697 0.45580405 0.64072398]\n"
     ]
    }
   ],
   "source": [
    "# SVM\n",
    "from sklearn.svm import SVC\n",
    "\n",
    "svm = SVC(kernel=\"rbf\", gamma=0.5, C=1.0)\n",
    "scores = model_selection.cross_val_score(svm, train_tfidf, train[\"target\"], cv=5, scoring=\"f1\")\n",
    "print('SVM', scores)"
   ]
  },
  {
   "cell_type": "code",
   "execution_count": 21,
   "id": "6cfee857",
   "metadata": {
    "execution": {
     "iopub.execute_input": "2023-06-14T09:47:50.789006Z",
     "iopub.status.busy": "2023-06-14T09:47:50.787959Z",
     "iopub.status.idle": "2023-06-14T09:47:50.848234Z",
     "shell.execute_reply": "2023-06-14T09:47:50.846908Z"
    },
    "papermill": {
     "duration": 0.076743,
     "end_time": "2023-06-14T09:47:50.851221",
     "exception": false,
     "start_time": "2023-06-14T09:47:50.774478",
     "status": "completed"
    },
    "tags": []
   },
   "outputs": [
    {
     "name": "stdout",
     "output_type": "stream",
     "text": [
      "Naive Bayes: [0.57590597 0.57092511 0.61135371 0.5962963  0.7393745 ]\n"
     ]
    }
   ],
   "source": [
    "# Naive Bayes\n",
    "from sklearn.naive_bayes import MultinomialNB\n",
    "\n",
    "clf_NB_TFIDF = MultinomialNB()\n",
    "scores = model_selection.cross_val_score(clf_NB_TFIDF, train_tfidf, train[\"target\"], cv=5, scoring=\"f1\")\n",
    "print('Naive Bayes:', scores)"
   ]
  },
  {
   "cell_type": "code",
   "execution_count": 22,
   "id": "7f9d186b",
   "metadata": {
    "execution": {
     "iopub.execute_input": "2023-06-14T09:47:50.879602Z",
     "iopub.status.busy": "2023-06-14T09:47:50.878291Z",
     "iopub.status.idle": "2023-06-14T09:47:50.891817Z",
     "shell.execute_reply": "2023-06-14T09:47:50.890440Z"
    },
    "papermill": {
     "duration": 0.03096,
     "end_time": "2023-06-14T09:47:50.894788",
     "exception": false,
     "start_time": "2023-06-14T09:47:50.863828",
     "status": "completed"
    },
    "tags": []
   },
   "outputs": [],
   "source": [
    "target = train['target']\n",
    "x, x_test, y, y_test = train_test_split(train_tfidf,target,test_size=0.2,train_size=0.8, random_state = 0)\n",
    "\n",
    "clf = MultinomialNB(alpha=1).fit(x, y)"
   ]
  },
  {
   "cell_type": "markdown",
   "id": "eaf10729",
   "metadata": {
    "papermill": {
     "duration": 0.012078,
     "end_time": "2023-06-14T09:47:50.919705",
     "exception": false,
     "start_time": "2023-06-14T09:47:50.907627",
     "status": "completed"
    },
    "tags": []
   },
   "source": [
    "# **Submission**"
   ]
  },
  {
   "cell_type": "code",
   "execution_count": 23,
   "id": "bd3b6ede",
   "metadata": {
    "execution": {
     "iopub.execute_input": "2023-06-14T09:47:50.946727Z",
     "iopub.status.busy": "2023-06-14T09:47:50.946283Z",
     "iopub.status.idle": "2023-06-14T09:47:50.976319Z",
     "shell.execute_reply": "2023-06-14T09:47:50.974869Z"
    },
    "papermill": {
     "duration": 0.046599,
     "end_time": "2023-06-14T09:47:50.979060",
     "exception": false,
     "start_time": "2023-06-14T09:47:50.932461",
     "status": "completed"
    },
    "tags": []
   },
   "outputs": [],
   "source": [
    "preds = clf.predict(test_tfidf)\n",
    "submission = pd.read_csv('/kaggle/input/nlp-getting-started/sample_submission.csv')\n",
    "submission['target']= preds\n",
    "submission.to_csv('submission.csv',index=False)"
   ]
  }
 ],
 "metadata": {
  "kernelspec": {
   "display_name": "Python 3",
   "language": "python",
   "name": "python3"
  },
  "language_info": {
   "codemirror_mode": {
    "name": "ipython",
    "version": 3
   },
   "file_extension": ".py",
   "mimetype": "text/x-python",
   "name": "python",
   "nbconvert_exporter": "python",
   "pygments_lexer": "ipython3",
   "version": "3.10.10"
  },
  "papermill": {
   "default_parameters": {},
   "duration": 79.659427,
   "end_time": "2023-06-14T09:47:52.320999",
   "environment_variables": {},
   "exception": null,
   "input_path": "__notebook__.ipynb",
   "output_path": "__notebook__.ipynb",
   "parameters": {},
   "start_time": "2023-06-14T09:46:32.661572",
   "version": "2.4.0"
  }
 },
 "nbformat": 4,
 "nbformat_minor": 5
}
